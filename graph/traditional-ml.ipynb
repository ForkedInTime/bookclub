{
 "cells": [
  {
   "cell_type": "markdown",
   "metadata": {},
   "source": [
    "<img src=\"https://github.com/SanDiegoMachineLearning/bookclub/blob/master/images/graph.jpg?raw=true\" width=\"160\">\n",
    "\n",
    "Links to the slides, videos, sample code, and other materials for the Meetup series about **Machine Learning with Graphs** is located in San Diego Machine Learning's GitHub book club repository:  https://github.com/SanDiegoMachineLearning/bookclub"
   ]
  },
  {
   "cell_type": "markdown",
   "metadata": {},
   "source": [
    "# Traditional Methods for Machine Learning in Graphs"
   ]
  },
  {
   "cell_type": "markdown",
   "metadata": {},
   "source": [
    "This core of this notebook came from sample code for the book **[Graph Machine Learning](https://www.amazon.com/dp/1800204493)** by Claudio Stamile et al.  These notebooks can be found at https://github.com/PacktPublishing/Graph-Machine-Learning."
   ]
  },
  {
   "cell_type": "markdown",
   "metadata": {},
   "source": [
    "## Introduction to the `networkx` package"
   ]
  },
  {
   "cell_type": "markdown",
   "metadata": {},
   "source": [
    "Sample code is shown for many of the algorithms discussed in the *Traditinal Methods* session. \n",
    "The `networkx` package is well over a decade old and is used here for educational purposes. \n",
    "We have not tested the suitability of this package for production quality code on large graphs."
   ]
  },
  {
   "cell_type": "markdown",
   "metadata": {},
   "source": [
    "#### Installing packages\n",
    "Uncomment the following code block to install the package versions recommended by the book"
   ]
  },
  {
   "cell_type": "code",
   "execution_count": 1,
   "metadata": {},
   "outputs": [],
   "source": [
    "# !pip install networkx==2.5 \n",
    "# !pip install matplotlib==3.2.2 \n",
    "# !pip install pandas==1.1.3 \n",
    "# !pip install scipy==1.6.2 "
   ]
  },
  {
   "cell_type": "markdown",
   "metadata": {},
   "source": [
    "#### Helper Function to Plot Graphs"
   ]
  },
  {
   "cell_type": "code",
   "execution_count": 2,
   "metadata": {},
   "outputs": [],
   "source": [
    "def draw_graph(G, pos_nodes, node_names={}, node_size=50, plot_weight=False):\n",
    "    nx.draw(G, pos_nodes, with_labels=False, node_size=node_size, edge_color='gray', arrowsize=30)\n",
    "    \n",
    "    pos_attrs = {}\n",
    "    for node, coords in pos_nodes.items():\n",
    "        pos_attrs[node] = (coords[0], coords[1] + 0.08)\n",
    "        \n",
    "    nx.draw_networkx_labels(G, pos_attrs, font_family='serif', font_size=20)\n",
    "    \n",
    "    \n",
    "    if plot_weight:\n",
    "        pos_attrs = {}\n",
    "        for node, coords in pos_nodes.items():\n",
    "            pos_attrs[node] = (coords[0], coords[1] + 0.08)\n",
    "        \n",
    "        nx.draw_networkx_labels(G, pos_attrs, font_family='serif', font_size=20)\n",
    "        edge_labels=dict([((a,b,),d[\"weight\"]) for a,b,d in G.edges(data=True)])\n",
    "        nx.draw_networkx_edge_labels(G, pos_nodes, edge_labels=edge_labels)\n",
    "    \n",
    "    plt.axis('off')\n",
    "    axis = plt.gca()\n",
    "    axis.set_xlim([1.2*x for x in axis.get_xlim()])\n",
    "    axis.set_ylim([1.2*y for y in axis.get_ylim()])"
   ]
  },
  {
   "cell_type": "markdown",
   "metadata": {},
   "source": [
    "## Graph Basics"
   ]
  },
  {
   "cell_type": "code",
   "execution_count": 3,
   "metadata": {},
   "outputs": [],
   "source": [
    "import numpy as np\n",
    "import pandas as pd\n",
    "import networkx as nx\n",
    "import matplotlib.pyplot as plt"
   ]
  },
  {
   "cell_type": "markdown",
   "metadata": {},
   "source": [
    "#### Working with an Undirected Graph\n",
    "For simplicity, we will show basic properties and operations on undirected graphs.  We start by creating a graph by specifying its nodes and edges."
   ]
  },
  {
   "cell_type": "code",
   "execution_count": 4,
   "metadata": {},
   "outputs": [
    {
     "data": {
      "image/png": "[encoded data removed]",
      "text/plain": [
       "<Figure size 432x288 with 1 Axes>"
      ]
     },
     "metadata": {},
     "output_type": "display_data"
    }
   ],
   "source": [
    "G = nx.Graph()\n",
    "V = {'Dublin', 'Paris', 'Milan', 'Rome'}\n",
    "E = [('Milan','Dublin'), ('Milan','Paris'), ('Paris','Dublin'), ('Milan','Rome')]\n",
    "G.add_nodes_from(V)\n",
    "G.add_edges_from(E)\n",
    "draw_graph(G, pos_nodes=nx.shell_layout(G), node_size=500)"
   ]
  },
  {
   "cell_type": "code",
   "execution_count": 5,
   "metadata": {},
   "outputs": [
    {
     "name": "stdout",
     "output_type": "stream",
     "text": [
      "V = ['Paris', 'Dublin', 'Rome', 'Milan']\n",
      "E = [('Paris', 'Milan'), ('Paris', 'Dublin'), ('Dublin', 'Milan'), ('Rome', 'Milan')]\n"
     ]
    }
   ],
   "source": [
    "print(f\"V = {G.nodes}\")\n",
    "print(f\"E = {G.edges}\")"
   ]
  },
  {
   "cell_type": "code",
   "execution_count": 6,
   "metadata": {},
   "outputs": [
    {
     "data": {
      "text/plain": [
       "{2: 'Dublin', 1: 'Rome', 3: 'Milan'}"
      ]
     },
     "execution_count": 6,
     "metadata": {},
     "output_type": "execute_result"
    }
   ],
   "source": [
    "{G.degree(v): v for v in G.nodes}"
   ]
  },
  {
   "cell_type": "code",
   "execution_count": 7,
   "metadata": {
    "scrolled": true
   },
   "outputs": [
    {
     "name": "stdout",
     "output_type": "stream",
     "text": [
      "Graph Order: 4\n",
      "Graph Size: 4\n",
      "Degree for nodes: {'Paris': 2, 'Dublin': 2, 'Rome': 1, 'Milan': 3}\n",
      "Neighbors for nodes: {'Paris': ['Milan', 'Dublin'], 'Dublin': ['Milan', 'Paris'], 'Rome': ['Milan'], 'Milan': ['Dublin', 'Paris', 'Rome']}\n"
     ]
    }
   ],
   "source": [
    "print(f\"Graph Order: {G.number_of_nodes()}\")\n",
    "print(f\"Graph Size: {G.number_of_edges()}\")\n",
    "print(f\"Degree for nodes: { {v: G.degree(v) for v in G.nodes} }\")\n",
    "print(f\"Neighbors for nodes: { {v: list(G.neighbors(v)) for v in G.nodes} }\")"
   ]
  },
  {
   "cell_type": "code",
   "execution_count": 8,
   "metadata": {},
   "outputs": [
    {
     "name": "stdout",
     "output_type": "stream",
     "text": [
      "Nodes: ['Paris', 'Dublin', 'Milan']\n",
      "Edges: [('Paris', 'Milan'), ('Paris', 'Dublin'), ('Dublin', 'Milan')]\n"
     ]
    },
    {
     "data": {
      "image/png": "[encoded data removed]",
      "text/plain": [
       "<Figure size 432x288 with 1 Axes>"
      ]
     },
     "metadata": {},
     "output_type": "display_data"
    }
   ],
   "source": [
    "ego_graph_paris = nx.ego_graph(G, \"Paris\")\n",
    "print(f\"Nodes: {ego_graph_paris.nodes}\")\n",
    "print(f\"Edges: {ego_graph_paris.edges}\")\n",
    "draw_graph(ego_graph_paris, pos_nodes=nx.shell_layout(G), node_size=500)"
   ]
  },
  {
   "cell_type": "code",
   "execution_count": 9,
   "metadata": {},
   "outputs": [
    {
     "name": "stdout",
     "output_type": "stream",
     "text": [
      "The adjacency matrix\n",
      "        Paris  Dublin  Rome  Milan\n",
      "Paris     0.0     1.0   0.0    1.0\n",
      "Dublin    1.0     0.0   0.0    1.0\n",
      "Rome      0.0     0.0   0.0    1.0\n",
      "Milan     1.0     1.0   1.0    0.0\n"
     ]
    }
   ],
   "source": [
    "print('The adjacency matrix')\n",
    "print(nx.to_pandas_adjacency(G))"
   ]
  },
  {
   "cell_type": "code",
   "execution_count": 10,
   "metadata": {},
   "outputs": [
    {
     "name": "stdout",
     "output_type": "stream",
     "text": [
      "The Laplacian matrix\n",
      "[[ 2 -1  0 -1]\n",
      " [-1  2  0 -1]\n",
      " [ 0  0  1 -1]\n",
      " [-1 -1 -1  3]]\n"
     ]
    }
   ],
   "source": [
    "sparse = nx.laplacian_matrix(G, nodelist=None, weight='weight')\n",
    "print('The Laplacian matrix')\n",
    "print(sparse.todense())"
   ]
  },
  {
   "cell_type": "markdown",
   "metadata": {},
   "source": [
    "You can modify a graph.  Below are some commands to add and remove nodes and edges."
   ]
  },
  {
   "cell_type": "code",
   "execution_count": 11,
   "metadata": {},
   "outputs": [
    {
     "name": "stdout",
     "output_type": "stream",
     "text": [
      "V = ['Paris', 'Dublin', 'Rome', 'Milan', 'London', 'Madrid']\n",
      "E = [('Paris', 'Milan'), ('Paris', 'Dublin'), ('Paris', 'Madrid'), ('Dublin', 'Milan'), ('Rome', 'Milan'), ('Rome', 'London')]\n"
     ]
    }
   ],
   "source": [
    "new_nodes = {'London', 'Madrid'}\n",
    "new_edges = [('London','Rome'), ('Madrid','Paris')]\n",
    "G.add_nodes_from(new_nodes)\n",
    "G.add_edges_from(new_edges)\n",
    "print(f\"V = {G.nodes}\")\n",
    "print(f\"E = {G.edges}\")"
   ]
  },
  {
   "cell_type": "code",
   "execution_count": 12,
   "metadata": {},
   "outputs": [
    {
     "name": "stdout",
     "output_type": "stream",
     "text": [
      "V = ['Paris', 'Dublin', 'Rome', 'Milan']\n",
      "E = [('Paris', 'Milan'), ('Paris', 'Dublin'), ('Dublin', 'Milan'), ('Rome', 'Milan')]\n"
     ]
    }
   ],
   "source": [
    "node_remove = {'London', 'Madrid'}\n",
    "G.remove_nodes_from(node_remove)\n",
    "print(f\"V = {G.nodes}\")\n",
    "print(f\"E = {G.edges}\")"
   ]
  },
  {
   "cell_type": "code",
   "execution_count": 13,
   "metadata": {},
   "outputs": [
    {
     "name": "stdout",
     "output_type": "stream",
     "text": [
      "V = ['Paris', 'Dublin', 'Rome', 'Milan']\n",
      "E = [('Paris', 'Dublin'), ('Rome', 'Milan')]\n"
     ]
    }
   ],
   "source": [
    "node_edges = [('Milan','Dublin'), ('Milan','Paris')]\n",
    "G.remove_edges_from(node_edges)\n",
    "print(f\"V = {G.nodes}\")\n",
    "print(f\"E = {G.edges}\")"
   ]
  },
  {
   "cell_type": "code",
   "execution_count": 14,
   "metadata": {},
   "outputs": [
    {
     "name": "stdout",
     "output_type": "stream",
     "text": [
      "[('Paris', 'Dublin', {}), ('Rome', 'Milan', {})]\n"
     ]
    }
   ],
   "source": [
    "print(nx.to_edgelist(G))"
   ]
  },
  {
   "cell_type": "markdown",
   "metadata": {},
   "source": [
    "#### Directed Graph\n",
    "Here are a few basics for working with directed graphs."
   ]
  },
  {
   "cell_type": "code",
   "execution_count": 15,
   "metadata": {},
   "outputs": [
    {
     "name": "stdout",
     "output_type": "stream",
     "text": [
      "  source  target\n",
      "0  Paris   Milan\n",
      "1  Paris  Dublin\n",
      "2  Milan  Dublin\n",
      "3  Milan    Rome\n",
      "        Paris  Dublin  Rome  Milan\n",
      "Paris     0.0     1.0   0.0    1.0\n",
      "Dublin    0.0     0.0   0.0    0.0\n",
      "Rome      0.0     0.0   0.0    0.0\n",
      "Milan     0.0     1.0   1.0    0.0\n"
     ]
    }
   ],
   "source": [
    "import networkx as nx\n",
    "G = nx.DiGraph()\n",
    "V = {'Dublin', 'Paris', 'Milan', 'Rome'}\n",
    "E = [('Milan','Dublin'), ('Paris','Milan'), ('Paris','Dublin'), ('Milan','Rome')]\n",
    "G.add_nodes_from(V)\n",
    "G.add_edges_from(E)\n",
    "print(nx.to_pandas_edgelist(G))\n",
    "print(nx.to_pandas_adjacency(G))"
   ]
  },
  {
   "cell_type": "code",
   "execution_count": 16,
   "metadata": {},
   "outputs": [
    {
     "name": "stdout",
     "output_type": "stream",
     "text": [
      "Indegree for nodes: {'Paris': 0, 'Dublin': 2, 'Rome': 1, 'Milan': 1}\n",
      "Outegree for nodes: {'Paris': 2, 'Dublin': 0, 'Rome': 0, 'Milan': 2}\n"
     ]
    }
   ],
   "source": [
    "print(f\"Indegree for nodes: { {v: G.in_degree(v) for v in G.nodes} }\")\n",
    "print(f\"Outegree for nodes: { {v: G.out_degree(v) for v in G.nodes} }\")"
   ]
  },
  {
   "cell_type": "code",
   "execution_count": 17,
   "metadata": {},
   "outputs": [
    {
     "data": {
      "image/png": "[encoded data removed]",
      "text/plain": [
       "<Figure size 432x288 with 1 Axes>"
      ]
     },
     "metadata": {},
     "output_type": "display_data"
    }
   ],
   "source": [
    "draw_graph(G, pos_nodes=nx.shell_layout(G), node_size=500)"
   ]
  },
  {
   "cell_type": "markdown",
   "metadata": {},
   "source": [
    "#### Weighted Directed Graph\n",
    "You can also add weights to edges"
   ]
  },
  {
   "cell_type": "code",
   "execution_count": 18,
   "metadata": {},
   "outputs": [
    {
     "name": "stdout",
     "output_type": "stream",
     "text": [
      "  source  target  weight\n",
      "0  Paris  Dublin      11\n",
      "1  Paris   Milan       8\n",
      "2  Milan    Rome       5\n",
      "3  Milan  Dublin      19\n",
      "        Paris  Dublin  Rome  Milan\n",
      "Paris     0.0    11.0   0.0    8.0\n",
      "Dublin    0.0     0.0   0.0    0.0\n",
      "Rome      0.0     0.0   0.0    0.0\n",
      "Milan     0.0    19.0   5.0    0.0\n"
     ]
    },
    {
     "data": {
      "image/png": "[encoded data removed]",
      "text/plain": [
       "<Figure size 432x288 with 1 Axes>"
      ]
     },
     "metadata": {},
     "output_type": "display_data"
    }
   ],
   "source": [
    "import networkx as nx\n",
    "G = nx.MultiDiGraph()\n",
    "V = {'Paris', 'Dublin','Milan', 'Rome'}\n",
    "E = [ ('Paris','Dublin', 11), ('Paris','Milan', 8),\n",
    "     ('Milan','Rome', 5),('Milan','Dublin', 19)]\n",
    "G.add_nodes_from(V)\n",
    "G.add_weighted_edges_from(E)\n",
    "draw_graph(G, pos_nodes=nx.shell_layout(G), node_size=500, plot_weight=True)\n",
    "print(nx.to_pandas_edgelist(G))\n",
    "print(nx.to_pandas_adjacency(G))"
   ]
  },
  {
   "cell_type": "markdown",
   "metadata": {},
   "source": [
    "#### Bipartite Graph\n",
    "Bipartite graphs have two different types of nodes, and all edges go between node types (never between two nodes of the same type).  They naturally arise in many situations, such as a graph of actors and the movies they appear in.  There are some special algorithms for bipartite graphs."
   ]
  },
  {
   "cell_type": "code",
   "execution_count": 19,
   "metadata": {},
   "outputs": [],
   "source": [
    "n_nodes = 10\n",
    "n_edges = 12\n",
    "bottom_nodes = [ith for ith in range(n_nodes) if ith % 2 ==0]\n",
    "top_nodes = [ith for ith in range(n_nodes) if ith % 2 ==1]\n",
    "iter_edges = zip(\n",
    "    np.random.choice(bottom_nodes, n_edges),  \n",
    "    np.random.choice(top_nodes, n_edges))\n",
    "edges = pd.DataFrame([\n",
    "    {\"source\": a, \"target\": b} for a, b in iter_edges])\n",
    "B = nx.Graph()\n",
    "B.add_nodes_from(bottom_nodes, bipartite=0)\n",
    "B.add_nodes_from(top_nodes, bipartite=1)\n",
    "B.add_edges_from([tuple(x) for x in edges.values])"
   ]
  },
  {
   "cell_type": "code",
   "execution_count": 20,
   "metadata": {},
   "outputs": [
    {
     "data": {
      "image/png": "[encoded data removed]",
      "text/plain": [
       "<Figure size 432x288 with 1 Axes>"
      ]
     },
     "metadata": {},
     "output_type": "display_data"
    }
   ],
   "source": [
    "from networkx.drawing.layout import bipartite_layout\n",
    "pos = bipartite_layout(B, bottom_nodes)\n",
    "nx.draw_networkx(B, pos=pos)"
   ]
  },
  {
   "cell_type": "markdown",
   "metadata": {},
   "source": [
    "## Node Features"
   ]
  },
  {
   "cell_type": "code",
   "execution_count": 21,
   "metadata": {},
   "outputs": [
    {
     "data": {
      "image/png": "[encoded data removed]",
      "text/plain": [
       "<Figure size 432x288 with 1 Axes>"
      ]
     },
     "metadata": {},
     "output_type": "display_data"
    }
   ],
   "source": [
    "G = nx.Graph()\n",
    "V = {'A','B','C','D','E'}\n",
    "E = [('A','C'),('B','C'),('B','D'),('C','D'),('D','E')]\n",
    "G.add_nodes_from(V)\n",
    "G.add_edges_from(E)\n",
    "draw_graph(G, pos_nodes=nx.spring_layout(G), node_size=200)"
   ]
  },
  {
   "cell_type": "markdown",
   "metadata": {},
   "source": [
    "### Centrality"
   ]
  },
  {
   "cell_type": "code",
   "execution_count": 22,
   "metadata": {},
   "outputs": [
    {
     "name": "stdout",
     "output_type": "stream",
     "text": [
      "Degree centrality scores\n",
      "{'E': 0.25, 'B': 0.5, 'D': 0.75, 'C': 0.75, 'A': 0.25}\n",
      "Unscaled degree centrality scores\n",
      "{'E': 1.0, 'B': 2.0, 'D': 3.0, 'C': 3.0, 'A': 1.0}\n"
     ]
    }
   ],
   "source": [
    "scores = nx.degree_centrality(G)\n",
    "print('Degree centrality scores')\n",
    "print(scores)\n",
    "\n",
    "print('Unscaled degree centrality scores')\n",
    "print({key:value * (G.number_of_nodes() - 1) for (key, value) in scores.items()})"
   ]
  },
  {
   "cell_type": "code",
   "execution_count": 23,
   "metadata": {},
   "outputs": [
    {
     "name": "stdout",
     "output_type": "stream",
     "text": [
      "Eigenvector centrality scores\n",
      "{'E': 0.24539962718618927, 'B': 0.49079832609417007, 'D': 0.5650995704550301, 'C': 0.5650995704550301, 'A': 0.24539962718618927}\n"
     ]
    }
   ],
   "source": [
    "scores = nx.eigenvector_centrality(G)\n",
    "print('Eigenvector centrality scores')\n",
    "print(scores)"
   ]
  },
  {
   "cell_type": "code",
   "execution_count": 24,
   "metadata": {},
   "outputs": [
    {
     "name": "stdout",
     "output_type": "stream",
     "text": [
      "Betweenness centrality scores\n",
      "{'E': 0.0, 'B': 0.0, 'D': 0.5, 'C': 0.5, 'A': 0.0}\n"
     ]
    }
   ],
   "source": [
    "scores = nx.betweenness_centrality(G)\n",
    "print('Betweenness centrality scores')\n",
    "print(scores)"
   ]
  },
  {
   "cell_type": "code",
   "execution_count": 25,
   "metadata": {},
   "outputs": [
    {
     "name": "stdout",
     "output_type": "stream",
     "text": [
      "Closeness centrality scores\n",
      "{'E': 0.5, 'B': 0.6666666666666666, 'D': 0.8, 'C': 0.8, 'A': 0.5}\n",
      "Unscaled closeness centrality scores\n",
      "{'E': 0.125, 'B': 0.16666666666666666, 'D': 0.2, 'C': 0.2, 'A': 0.125}\n"
     ]
    }
   ],
   "source": [
    "# The networkx closeness centrality scales all scores by N-1\n",
    "# For our 5-node graph, it multiplies by 4, \n",
    "#   so these are all 4 times the values in the slide presentation\n",
    "scores = nx.closeness_centrality(G)\n",
    "print('Closeness centrality scores')\n",
    "print(scores)\n",
    "\n",
    "print('Unscaled closeness centrality scores')\n",
    "print({key:value / (G.number_of_nodes() - 1) for (key, value) in scores.items()})"
   ]
  },
  {
   "cell_type": "markdown",
   "metadata": {},
   "source": [
    "### Clustering coefficient"
   ]
  },
  {
   "cell_type": "code",
   "execution_count": 26,
   "metadata": {},
   "outputs": [
    {
     "name": "stdout",
     "output_type": "stream",
     "text": [
      "Clustering coefficient scores\n",
      "{'E': 0, 'B': 1.0, 'D': 0.3333333333333333, 'C': 0.3333333333333333, 'A': 0}\n"
     ]
    }
   ],
   "source": [
    "scores = nx.clustering(G)\n",
    "print('Clustering coefficient scores')\n",
    "print(scores)"
   ]
  },
  {
   "cell_type": "markdown",
   "metadata": {},
   "source": [
    "### Graphlet degree vector\n",
    "I did not find an implementation of graphlet degree vector "
   ]
  },
  {
   "cell_type": "markdown",
   "metadata": {},
   "source": [
    "## Link Prediction"
   ]
  },
  {
   "cell_type": "code",
   "execution_count": 27,
   "metadata": {},
   "outputs": [
    {
     "data": {
      "image/png": "[encoded data removed]",
      "text/plain": [
       "<Figure size 432x288 with 1 Axes>"
      ]
     },
     "metadata": {},
     "output_type": "display_data"
    }
   ],
   "source": [
    "G = nx.Graph()\n",
    "V = {'A','B','C','D','E'}\n",
    "E = [('A','C'),('B','C'),('B','D'),('C','D'),('D','E'),('C','F'),('D','F')]\n",
    "G.add_nodes_from(V)\n",
    "G.add_edges_from(E)\n",
    "draw_graph(G, pos_nodes=nx.spring_layout(G), node_size=200)"
   ]
  },
  {
   "cell_type": "markdown",
   "metadata": {},
   "source": [
    "### Shortest path"
   ]
  },
  {
   "cell_type": "code",
   "execution_count": 28,
   "metadata": {},
   "outputs": [
    {
     "name": "stdout",
     "output_type": "stream",
     "text": [
      "Shortest path lengths between pairs of nodes\n",
      "('E', {'E': 0, 'D': 1, 'C': 2, 'B': 2, 'F': 2, 'A': 3})\n",
      "('B', {'B': 0, 'D': 1, 'C': 1, 'A': 2, 'E': 2, 'F': 2})\n",
      "('D', {'D': 0, 'C': 1, 'E': 1, 'B': 1, 'F': 1, 'A': 2})\n",
      "('C', {'C': 0, 'D': 1, 'F': 1, 'A': 1, 'B': 1, 'E': 2})\n",
      "('A', {'A': 0, 'C': 1, 'D': 2, 'F': 2, 'B': 2, 'E': 3})\n",
      "('F', {'F': 0, 'D': 1, 'C': 1, 'A': 2, 'E': 2, 'B': 2})\n"
     ]
    }
   ],
   "source": [
    "print('Shortest path lengths between pairs of nodes')\n",
    "for x in nx.shortest_path_length(G):\n",
    "    print(x)"
   ]
  },
  {
   "cell_type": "markdown",
   "metadata": {},
   "source": [
    "### Jaccard coefficient"
   ]
  },
  {
   "cell_type": "code",
   "execution_count": 29,
   "metadata": {
    "scrolled": true
   },
   "outputs": [
    {
     "name": "stdout",
     "output_type": "stream",
     "text": [
      "Jaccard coefficient for edges not present in graph\n",
      "('A', 'D', 0.25)\n",
      "('A', 'E', 0.0)\n",
      "('A', 'B', 0.5)\n",
      "('A', 'F', 0.5)\n",
      "('E', 'F', 0.5)\n",
      "('E', 'B', 0.5)\n",
      "('E', 'C', 0.25)\n",
      "('F', 'B', 1.0)\n"
     ]
    }
   ],
   "source": [
    "print('Jaccard coefficient for edges not present in graph')\n",
    "for x in nx.jaccard_coefficient(G):\n",
    "    print(x)"
   ]
  },
  {
   "cell_type": "markdown",
   "metadata": {},
   "source": [
    "### Adamic-Adar index"
   ]
  },
  {
   "cell_type": "code",
   "execution_count": 30,
   "metadata": {
    "scrolled": true
   },
   "outputs": [
    {
     "name": "stdout",
     "output_type": "stream",
     "text": [
      "Adamic-Adar index for edges not present in graph\n",
      "('A', 'D', 0.7213475204444817)\n",
      "('A', 'E', 0)\n",
      "('A', 'B', 0.7213475204444817)\n",
      "('A', 'F', 0.7213475204444817)\n",
      "('E', 'F', 0.7213475204444817)\n",
      "('E', 'B', 0.7213475204444817)\n",
      "('E', 'C', 0.7213475204444817)\n",
      "('F', 'B', 1.4426950408889634)\n"
     ]
    }
   ],
   "source": [
    "print('Adamic-Adar index for edges not present in graph')\n",
    "for x in nx.adamic_adar_index(G):\n",
    "    print(x)"
   ]
  },
  {
   "cell_type": "markdown",
   "metadata": {},
   "source": [
    "### Katz index\n",
    "I modified some code I found on [Stack Overflow](https://stackoverflow.com/questions/62069781/how-to-find-the-similarity-between-pair-of-vertices-using-katz-index-in-python)"
   ]
  },
  {
   "cell_type": "code",
   "execution_count": 31,
   "metadata": {
    "scrolled": true
   },
   "outputs": [
    {
     "name": "stdout",
     "output_type": "stream",
     "text": [
      "Largest eigenvalue: 1.7500000000000002\n",
      "Katz index matrix for beta  0.2857142857142857\n",
      "[[0.16723164 0.26666667 0.58531073 0.3480226  0.09943503 0.26666667]\n",
      " [0.26666667 0.53333333 0.93333333 0.93333333 0.26666667 0.53333333]\n",
      " [0.58531073 0.93333333 1.04858757 1.2180791  0.3480226  0.93333333]\n",
      " [0.3480226  0.93333333 1.2180791  1.04858757 0.58531073 0.93333333]\n",
      " [0.09943503 0.26666667 0.3480226  0.58531073 0.16723164 0.26666667]\n",
      " [0.26666667 0.53333333 0.93333333 0.93333333 0.26666667 0.53333333]]\n"
     ]
    }
   ],
   "source": [
    "import numpy as np\n",
    "from numpy.linalg import inv\n",
    "\n",
    "# Create identity matrix\n",
    "I = np.identity(len(G.nodes)) \n",
    "\n",
    "# Calculate highest eigenvector\n",
    "L = nx.normalized_laplacian_matrix(G)\n",
    "e = np.linalg.eigvals(L.A)\n",
    "print(\"Largest eigenvalue:\", max(e))\n",
    "\n",
    "# Set beta to scale largest eigenvector to be 0.5\n",
    "beta = 1/(max(e) * 2)\n",
    "\n",
    "#Katz index\n",
    "print('Katz index matrix for beta ', beta)\n",
    "print(inv(I - (nx.to_numpy_array(G)*beta)) - I)\n"
   ]
  },
  {
   "cell_type": "markdown",
   "metadata": {},
   "source": [
    "## Graph-level features"
   ]
  },
  {
   "cell_type": "markdown",
   "metadata": {},
   "source": [
    "### Weisfeiler-Lehman kernel"
   ]
  },
  {
   "cell_type": "code",
   "execution_count": 32,
   "metadata": {},
   "outputs": [
    {
     "data": {
      "image/png": "[encoded data removed]",
      "text/plain": [
       "<Figure size 432x288 with 1 Axes>"
      ]
     },
     "metadata": {},
     "output_type": "display_data"
    }
   ],
   "source": [
    "G1 = nx.Graph()\n",
    "V = {'A','B','C','D','E','F'}\n",
    "E = [('A','B'),('A','D'),('A','E'),('A','F'),('B','C'),('B','D'),('C','D')]\n",
    "G1.add_nodes_from(V)\n",
    "G1.add_edges_from(E)\n",
    "draw_graph(G1, pos_nodes=nx.circular_layout(G), node_size=200)"
   ]
  },
  {
   "cell_type": "code",
   "execution_count": 33,
   "metadata": {},
   "outputs": [
    {
     "data": {
      "image/png": "[encoded data removed]",
      "text/plain": [
       "<Figure size 432x288 with 1 Axes>"
      ]
     },
     "metadata": {},
     "output_type": "display_data"
    }
   ],
   "source": [
    "G2 = nx.Graph()\n",
    "V = {'A','B','C','D','E','F'}\n",
    "E = [('A','B'),('A','C'),('A','D'),('A','F'),('B','C'),('C','D'),('D','E')]\n",
    "G2.add_nodes_from(V)\n",
    "G2.add_edges_from(E)\n",
    "draw_graph(G2, pos_nodes=nx.circular_layout(G), node_size=200)"
   ]
  },
  {
   "cell_type": "markdown",
   "metadata": {},
   "source": [
    "The `networkx` implementation seems to hash the histogram, so it's hard to show the same info as the slides\n",
    "\n",
    "This implementation is useful for trying identifying isomorphic graphs, but not sure how to use it to measure similarity"
   ]
  },
  {
   "cell_type": "code",
   "execution_count": 34,
   "metadata": {},
   "outputs": [
    {
     "name": "stdout",
     "output_type": "stream",
     "text": [
      "G1: cd6cd4454f1669731109aebe3d\n",
      "G2: c994ab690274ed5ccee46d903a\n"
     ]
    }
   ],
   "source": [
    "print('G1:', nx.weisfeiler_lehman_graph_hash(G1, iterations=4, digest_size=13))\n",
    "print('G2:', nx.weisfeiler_lehman_graph_hash(G2, iterations=4, digest_size=13))"
   ]
  },
  {
   "cell_type": "code",
   "execution_count": null,
   "metadata": {},
   "outputs": [],
   "source": []
  }
 ],
 "metadata": {
  "kernelspec": {
   "display_name": "Python 3 (ipykernel)",
   "language": "python",
   "name": "python3"
  },
  "language_info": {
   "codemirror_mode": {
    "name": "ipython",
    "version": 3
   },
   "file_extension": ".py",
   "mimetype": "text/x-python",
   "name": "python",
   "nbconvert_exporter": "python",
   "pygments_lexer": "ipython3",
   "version": "3.9.7"
  }
 },
 "nbformat": 4,
 "nbformat_minor": 4
}
